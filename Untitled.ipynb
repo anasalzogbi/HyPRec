{
 "cells": [
  {
   "cell_type": "code",
   "execution_count": 11,
   "metadata": {
    "collapsed": true
   },
   "outputs": [],
   "source": [
    "import numpy\n",
    "from scipy.sparse import csr_matrix\n",
    "from sklearn.metrics.pairwise import cosine_similarity"
   ]
  },
  {
   "cell_type": "code",
   "execution_count": 2,
   "metadata": {},
   "outputs": [
    {
     "data": {
      "text/plain": [
       "array([[ -1.45662663e+00,  -1.28192022e+00,   2.03441987e+00,\n",
       "         -9.86239672e-01,   2.03632933e+00,  -1.81017480e+00,\n",
       "         -1.67437982e-01,  -4.50993703e-01,  -1.68127004e-01,\n",
       "         -4.24573020e-01],\n",
       "       [  4.15311162e-01,   6.19958126e-01,  -1.38469147e+00,\n",
       "          6.38457422e-01,  -4.50054492e-01,   1.60261326e-01,\n",
       "         -9.43962147e-01,   4.56001150e-01,  -1.02187939e+00,\n",
       "         -1.30992871e-01],\n",
       "       [ -6.29780445e-02,  -2.28696155e-02,   8.24958562e-02,\n",
       "         -6.33312058e-01,  -2.95325076e-01,  -8.26074998e-01,\n",
       "          2.72334872e-01,  -4.22797553e-01,   9.78908215e-01,\n",
       "          3.38809027e-01],\n",
       "       [ -4.91323626e-01,   6.40851354e-01,  -1.36909284e+00,\n",
       "         -1.44344694e+00,   4.17117786e-01,   1.16196132e+00,\n",
       "          5.05955810e-01,   6.97459882e-02,  -8.49850461e-01,\n",
       "          6.85170873e-01],\n",
       "       [ -9.01436790e-01,   6.06732227e-01,   1.90007634e+00,\n",
       "          7.90070827e-02,  -1.21718268e+00,   1.30661290e+00,\n",
       "         -3.39433532e-01,   3.50485689e-02,   1.97609431e-01,\n",
       "          7.58003283e-01],\n",
       "       [ -2.91330904e+00,  -9.04452208e-01,  -7.99743815e-01,\n",
       "          7.11043430e-01,  -4.72777780e-01,  -6.17130437e-01,\n",
       "          2.25235364e+00,   6.44417516e-01,  -1.25400686e+00,\n",
       "         -3.27370176e-01],\n",
       "       [ -2.04336674e-02,   1.33864288e+00,  -1.67659280e+00,\n",
       "         -1.94735418e+00,   1.99565812e-03,   5.74974199e-01,\n",
       "          1.42041473e+00,   6.97795546e-01,   6.50185276e-01,\n",
       "          4.51868127e-01],\n",
       "       [ -1.45242709e+00,  -1.42865810e-01,  -8.32742795e-01,\n",
       "          2.31383185e-01,   1.14541736e+00,  -3.59178082e-01,\n",
       "          2.40426035e-01,  -1.32044644e+00,  -3.60810655e-01,\n",
       "         -1.35771108e-01]])"
      ]
     },
     "execution_count": 2,
     "metadata": {},
     "output_type": "execute_result"
    }
   ],
   "source": [
    "theta = numpy.random.randn(8,10)\n",
    "theta\n"
   ]
  },
  {
   "cell_type": "code",
   "execution_count": 16,
   "metadata": {},
   "outputs": [
    {
     "data": {
      "text/plain": [
       "<8x10 sparse matrix of type '<class 'numpy.float64'>'\n",
       "\twith 80 stored elements in Compressed Sparse Row format>"
      ]
     },
     "execution_count": 16,
     "metadata": {},
     "output_type": "execute_result"
    }
   ],
   "source": [
    "theta_sparse = csr_matrix(theta)\n",
    "theta_sparse"
   ]
  },
  {
   "cell_type": "code",
   "execution_count": 10,
   "metadata": {},
   "outputs": [
    {
     "data": {
      "text/plain": [
       "<1x10 sparse matrix of type '<class 'numpy.float64'>'\n",
       "\twith 10 stored elements in Compressed Sparse Row format>"
      ]
     },
     "execution_count": 10,
     "metadata": {},
     "output_type": "execute_result"
    }
   ],
   "source": [
    "theta_sparse[0]"
   ]
  },
  {
   "cell_type": "code",
   "execution_count": 7,
   "metadata": {},
   "outputs": [
    {
     "data": {
      "text/plain": [
       "<100x100 sparse matrix of type '<class 'numpy.int32'>'\n",
       "\twith 5030 stored elements in Compressed Sparse Row format>"
      ]
     },
     "execution_count": 7,
     "metadata": {},
     "output_type": "execute_result"
    }
   ],
   "source": [
    "test_arr = numpy.random.randint(2,size=(100,100))\n",
    "sparse_test =  csr_matrix(test_arr)\n",
    "sparse_test"
   ]
  },
  {
   "cell_type": "code",
   "execution_count": 25,
   "metadata": {},
   "outputs": [
    {
     "data": {
      "text/plain": [
       "array([[1, 6, 3, 4, 5, 2, 7, 0],\n",
       "       [0, 2, 4, 7, 5, 6, 3, 1],\n",
       "       [7, 1, 6, 3, 0, 5, 2, 4]], dtype=int64)"
      ]
     },
     "execution_count": 25,
     "metadata": {},
     "output_type": "execute_result"
    }
   ],
   "source": [
    "cosine_documents_similarity = cosine_similarity(theta_sparse,dense_output = False)\n",
    "#print(cosine_documents_similarity)\n",
    "numpy.argsort(cosine_documents_similarity[[0,1,4]].toarray())"
   ]
  }
 ],
 "metadata": {
  "kernelspec": {
   "display_name": "Python 3",
   "language": "python",
   "name": "python3"
  },
  "language_info": {
   "codemirror_mode": {
    "name": "ipython",
    "version": 3
   },
   "file_extension": ".py",
   "mimetype": "text/x-python",
   "name": "python",
   "nbconvert_exporter": "python",
   "pygments_lexer": "ipython3",
   "version": "3.6.1"
  }
 },
 "nbformat": 4,
 "nbformat_minor": 2
}
