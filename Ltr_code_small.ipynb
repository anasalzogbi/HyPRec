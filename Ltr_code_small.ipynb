{
 "cells": [
  {
   "cell_type": "code",
   "execution_count": 1,
   "metadata": {
    "collapsed": true
   },
   "outputs": [],
   "source": [
    "import numpy\n",
    "import numpy.ma as ma\n",
    "from sklearn.metrics.pairwise import cosine_similarity"
   ]
  },
  {
   "cell_type": "code",
   "execution_count": 2,
   "metadata": {},
   "outputs": [
    {
     "data": {
      "text/plain": [
       "array([[2, 1, 1, 1, 1, 1, 2, 1],\n",
       "       [1, 2, 2, 1, 1, 1, 1, 2],\n",
       "       [1, 1, 1, 2, 2, 1, 2, 1],\n",
       "       [2, 1, 1, 1, 1, 2, 1, 1],\n",
       "       [2, 1, 2, 2, 2, 1, 2, 1]])"
      ]
     },
     "execution_count": 2,
     "metadata": {},
     "output_type": "execute_result"
    }
   ],
   "source": [
    "rating_matrix = numpy.random.randint(1,3,size=(5,8))\n",
    "rating_matrix"
   ]
  },
  {
   "cell_type": "code",
   "execution_count": 3,
   "metadata": {},
   "outputs": [
    {
     "data": {
      "text/plain": [
       "array([[False, False, False, False, False, False, False, False],\n",
       "       [False, False, False, False, False, False, False, False],\n",
       "       [False, False, False, False, False, False, False, False],\n",
       "       [False, False, False, False, False, False, False, False],\n",
       "       [False, False, False, False, False, False, False, False]], dtype=bool)"
      ]
     },
     "execution_count": 3,
     "metadata": {},
     "output_type": "execute_result"
    }
   ],
   "source": [
    "test_mask_matrix = numpy.zeros((5,8) , dtype = bool)\n",
    "test_mask_matrix"
   ]
  },
  {
   "cell_type": "code",
   "execution_count": 4,
   "metadata": {},
   "outputs": [
    {
     "data": {
      "text/plain": [
       "[0, 1, 2, 3, 4]"
      ]
     },
     "execution_count": 4,
     "metadata": {},
     "output_type": "execute_result"
    }
   ],
   "source": [
    "list(range(5))"
   ]
  },
  {
   "cell_type": "code",
   "execution_count": 5,
   "metadata": {},
   "outputs": [
    {
     "data": {
      "text/plain": [
       "array([[ True, False, False, False, False, False, False, False],\n",
       "       [False,  True, False, False, False, False, False, False],\n",
       "       [False, False,  True, False, False, False, False, False],\n",
       "       [False, False, False,  True, False, False, False, False],\n",
       "       [False, False, False, False, False, False, False,  True]], dtype=bool)"
      ]
     },
     "execution_count": 5,
     "metadata": {},
     "output_type": "execute_result"
    }
   ],
   "source": [
    "test_mask_matrix[list(range(5)), [0,1,2,3,7]] = True\n",
    "test_mask_matrix"
   ]
  },
  {
   "cell_type": "code",
   "execution_count": 6,
   "metadata": {},
   "outputs": [
    {
     "data": {
      "text/plain": [
       "masked_array(data =\n",
       " [[-- 1 1 1 1 1 2 1]\n",
       " [1 -- 2 1 1 1 1 2]\n",
       " [1 1 -- 2 2 1 2 1]\n",
       " [2 1 1 -- 1 2 1 1]\n",
       " [2 1 2 2 2 1 2 --]],\n",
       "             mask =\n",
       " [[ True False False False False False False False]\n",
       " [False  True False False False False False False]\n",
       " [False False  True False False False False False]\n",
       " [False False False  True False False False False]\n",
       " [False False False False False False False  True]],\n",
       "       fill_value = 999999)"
      ]
     },
     "execution_count": 6,
     "metadata": {},
     "output_type": "execute_result"
    }
   ],
   "source": [
    "train_data = ma.masked_array(rating_matrix , test_mask_matrix)\n",
    "train_data"
   ]
  },
  {
   "cell_type": "code",
   "execution_count": 7,
   "metadata": {},
   "outputs": [
    {
     "data": {
      "text/plain": [
       "array([[-1.64278642, -0.30503899,  0.96092519,  0.80215673, -0.13893253,\n",
       "        -0.59373953, -0.54728162,  0.59892328,  1.63107594, -1.1486659 ],\n",
       "       [ 1.5527677 ,  0.42016853,  0.25988474, -0.22758284,  1.54384123,\n",
       "         0.21447287, -0.04116339,  0.83602026,  0.8903968 ,  0.30848773],\n",
       "       [ 1.32513858, -0.28254052, -1.02287235, -0.71416967, -1.23278907,\n",
       "        -1.31351763,  1.26828482,  0.69532066,  0.62420521,  0.48953499],\n",
       "       [ 1.10521244, -1.86420767, -0.54187631, -2.81770807,  0.94492279,\n",
       "        -0.5854354 , -1.11761518,  0.75901973, -0.43631619,  0.15000033],\n",
       "       [-1.35369545, -0.24906603, -1.89529735, -0.74880695, -0.15854168,\n",
       "        -0.7093734 , -0.34666854, -1.52798312, -1.47210269,  0.38866936],\n",
       "       [-1.11514544,  1.17409119, -1.41688307, -0.33085702, -0.29614505,\n",
       "         1.13619472,  0.28788334, -1.13764896, -0.68258383, -1.41599824],\n",
       "       [ 0.78964331,  1.79646916,  0.54206318, -0.54459046,  0.16900273,\n",
       "         1.23751385, -0.37929578,  0.32401519,  0.28577545, -1.18785961],\n",
       "       [-1.27668355, -0.38114215, -0.11810443,  0.55307629, -1.83644552,\n",
       "        -1.30609569, -0.63825337,  1.59639907,  0.84271933,  0.34933201]])"
      ]
     },
     "execution_count": 7,
     "metadata": {},
     "output_type": "execute_result"
    }
   ],
   "source": [
    "theta = numpy.random.randn(8,10)\n",
    "theta"
   ]
  },
  {
   "cell_type": "code",
   "execution_count": 8,
   "metadata": {},
   "outputs": [
    {
     "data": {
      "text/plain": [
       "array([[4, 3, 2, 1, 5, 6, 7, 0],\n",
       "       [4, 5, 7, 0, 2, 3, 6, 1],\n",
       "       [5, 0, 6, 4, 1, 3, 7, 2],\n",
       "       [5, 0, 6, 7, 4, 2, 1, 3],\n",
       "       [1, 6, 0, 7, 2, 3, 5, 4],\n",
       "       [1, 3, 7, 2, 0, 6, 4, 5],\n",
       "       [4, 7, 2, 3, 0, 5, 1, 6],\n",
       "       [1, 6, 5, 3, 4, 2, 0, 7]], dtype=int64)"
      ]
     },
     "execution_count": 8,
     "metadata": {},
     "output_type": "execute_result"
    }
   ],
   "source": [
    "cosine_documents_similarity = cosine_similarity(theta)\n",
    "sorted_documents_similarity = numpy.argsort(cosine_documents_similarity)\n",
    "sorted_documents_similarity"
   ]
  },
  {
   "cell_type": "code",
   "execution_count": 9,
   "metadata": {},
   "outputs": [
    {
     "data": {
      "text/plain": [
       "array([[4, 3, 2],\n",
       "       [5, 0, 6],\n",
       "       [5, 0, 6]], dtype=int64)"
      ]
     },
     "execution_count": 9,
     "metadata": {},
     "output_type": "execute_result"
    }
   ],
   "source": [
    "sorted_documents_similarity[[0,2,3],:3]"
   ]
  },
  {
   "cell_type": "code",
   "execution_count": 10,
   "metadata": {},
   "outputs": [
    {
     "data": {
      "text/plain": [
       "[array([[1, 4, 5, 7],\n",
       "        [2, 5, 0, 6],\n",
       "        [3, 5, 0, 6],\n",
       "        [4, 1, 6, 0],\n",
       "        [5, 1, 3, 7],\n",
       "        [7, 1, 6, 5]]), array([[0, 4, 3, 2],\n",
       "        [3, 5, 0, 6],\n",
       "        [4, 1, 6, 0],\n",
       "        [5, 1, 3, 7],\n",
       "        [6, 4, 7, 2]]), array([[0, 4, 3, 2],\n",
       "        [1, 4, 5, 7],\n",
       "        [2, 5, 0, 6],\n",
       "        [5, 1, 3, 7],\n",
       "        [7, 1, 6, 5]]), array([[1, 4, 5, 7],\n",
       "        [2, 5, 0, 6],\n",
       "        [3, 5, 0, 6],\n",
       "        [4, 1, 6, 0],\n",
       "        [6, 4, 7, 2],\n",
       "        [7, 1, 6, 5]]), array([[1, 4, 5, 7],\n",
       "        [5, 1, 3, 7],\n",
       "        [7, 1, 6, 5]])]"
      ]
     },
     "execution_count": 10,
     "metadata": {},
     "output_type": "execute_result"
    }
   ],
   "source": [
    "rated_and_peerpaper_matrix_list = []\n",
    "for user in range(5):\n",
    "    ones_indices = numpy.where(rating_matrix[user] == 1)[0]\n",
    "    peers_per_paper = 3\n",
    "    user_rated_peer_matrix= numpy.zeros((ones_indices.size , peers_per_paper +1))\n",
    "    user_rated_peer_matrix[:,0] = ones_indices\n",
    "    user_rated_peer_matrix[:,1:] = sorted_documents_similarity[ones_indices,:peers_per_paper]\n",
    "    user_rated_peer_matrix =user_rated_peer_matrix.astype(int)\n",
    "    rated_and_peerpaper_matrix_list.append(user_rated_peer_matrix)\n",
    "\n",
    "rated_and_peerpaper_matrix_list"
   ]
  },
  {
   "cell_type": "code",
   "execution_count": 11,
   "metadata": {},
   "outputs": [
    {
     "data": {
      "text/plain": [
       "array([[1, 4, 5, 7],\n",
       "       [2, 5, 0, 6],\n",
       "       [3, 5, 0, 6],\n",
       "       [4, 1, 6, 0],\n",
       "       [5, 1, 3, 7],\n",
       "       [7, 1, 6, 5]])"
      ]
     },
     "execution_count": 11,
     "metadata": {},
     "output_type": "execute_result"
    }
   ],
   "source": [
    "user_0_rated_peer_matrix = rated_and_peerpaper_matrix_list[0]\n",
    "user_0_rated_peer_matrix"
   ]
  },
  {
   "cell_type": "code",
   "execution_count": 12,
   "metadata": {},
   "outputs": [
    {
     "name": "stdout",
     "output_type": "stream",
     "text": [
      "[1 2 3 4 5 7]\n"
     ]
    },
    {
     "data": {
      "text/plain": [
       "array([[4, 5, 7],\n",
       "       [5, 0, 6],\n",
       "       [5, 0, 6],\n",
       "       [1, 6, 0],\n",
       "       [1, 3, 7],\n",
       "       [1, 6, 5]])"
      ]
     },
     "execution_count": 12,
     "metadata": {},
     "output_type": "execute_result"
    }
   ],
   "source": [
    "ones = user_0_rated_peer_matrix[:,0]\n",
    "zeros = user_0_rated_peer_matrix[:,1:]\n",
    "print(ones)\n",
    "zeros"
   ]
  },
  {
   "cell_type": "code",
   "execution_count": 13,
   "metadata": {},
   "outputs": [
    {
     "data": {
      "text/plain": [
       "array([[ 1.5527677 ,  0.42016853,  0.25988474, -0.22758284,  1.54384123,\n",
       "         0.21447287, -0.04116339,  0.83602026,  0.8903968 ,  0.30848773],\n",
       "       [ 1.32513858, -0.28254052, -1.02287235, -0.71416967, -1.23278907,\n",
       "        -1.31351763,  1.26828482,  0.69532066,  0.62420521,  0.48953499],\n",
       "       [ 1.10521244, -1.86420767, -0.54187631, -2.81770807,  0.94492279,\n",
       "        -0.5854354 , -1.11761518,  0.75901973, -0.43631619,  0.15000033],\n",
       "       [-1.35369545, -0.24906603, -1.89529735, -0.74880695, -0.15854168,\n",
       "        -0.7093734 , -0.34666854, -1.52798312, -1.47210269,  0.38866936],\n",
       "       [-1.11514544,  1.17409119, -1.41688307, -0.33085702, -0.29614505,\n",
       "         1.13619472,  0.28788334, -1.13764896, -0.68258383, -1.41599824],\n",
       "       [-1.27668355, -0.38114215, -0.11810443,  0.55307629, -1.83644552,\n",
       "        -1.30609569, -0.63825337,  1.59639907,  0.84271933,  0.34933201]])"
      ]
     },
     "execution_count": 13,
     "metadata": {},
     "output_type": "execute_result"
    }
   ],
   "source": [
    "theta[ones]"
   ]
  },
  {
   "cell_type": "code",
   "execution_count": 14,
   "metadata": {},
   "outputs": [
    {
     "name": "stdout",
     "output_type": "stream",
     "text": [
      "[[ 1  2  3]\n",
      " [ 4  5  6]\n",
      " [ 2  3  4]\n",
      " [ 3 23  1]\n",
      " [ 2  3  5]]\n",
      "[[[1 2 3]]\n",
      "\n",
      " [[4 5 6]]\n",
      "\n",
      " [[2 3 5]]]\n",
      "[[[ 2  3  4]\n",
      "  [ 4  5  6]]\n",
      "\n",
      " [[ 3 23  1]\n",
      "  [ 2  3  5]]\n",
      "\n",
      " [[ 2  3  4]\n",
      "  [ 1  2  3]]]\n",
      "[[[ -1  -1  -1]\n",
      "  [ -3  -3  -3]]\n",
      "\n",
      " [[  1 -18   5]\n",
      "  [  2   2   1]]\n",
      "\n",
      " [[  0   0   1]\n",
      "  [  1   1   2]]]\n",
      "(3, 2, 3)\n"
     ]
    }
   ],
   "source": [
    "#testing\n",
    "#success vectorized implementation of pairbuilding\n",
    "x = numpy.array([[1,2,3],[4,5,6],[2,3,4],[3,23,1],[2,3,5]])\n",
    "print(x)\n",
    "rated_xs = x[[0,1,4]]\n",
    "rated_xs = rated_xs[:,numpy.newaxis,:]\n",
    "print(rated_xs)\n",
    "non_rated_indices = numpy.array([ [2,1], [3,4], [2,0] ])\n",
    "non_rated_xs = x[non_rated_indices]\n",
    "print(non_rated_xs)\n",
    "y = rated_xs - non_rated_xs\n",
    "print(y)\n",
    "print(y.shape)"
   ]
  },
  {
   "cell_type": "code",
   "execution_count": 15,
   "metadata": {},
   "outputs": [
    {
     "name": "stdout",
     "output_type": "stream",
     "text": [
      "[[ -1  -1  -1]\n",
      " [ -3  -3  -3]\n",
      " [  1 -18   5]\n",
      " [  2   2   1]\n",
      " [  0   0   1]\n",
      " [  1   1   2]]\n",
      "(6, 3)\n"
     ]
    }
   ],
   "source": [
    "y = numpy.reshape(y,(6,3))\n",
    "print(y)\n",
    "print(y.shape)"
   ]
  },
  {
   "cell_type": "code",
   "execution_count": 17,
   "metadata": {},
   "outputs": [
    {
     "name": "stdout",
     "output_type": "stream",
     "text": [
      "[[[ 1  1  1]\n",
      "  [ 3  3  3]]\n",
      "\n",
      " [[-1 18 -5]\n",
      "  [-2 -2 -1]]\n",
      "\n",
      " [[ 0  0 -1]\n",
      "  [-1 -1 -2]]]\n",
      "(3, 2, 3)\n"
     ]
    }
   ],
   "source": [
    "z = - rated_xs + non_rated_xs\n",
    "print(z)\n",
    "print(z.shape)"
   ]
  },
  {
   "cell_type": "code",
   "execution_count": 19,
   "metadata": {},
   "outputs": [
    {
     "name": "stdout",
     "output_type": "stream",
     "text": [
      "[[ 1  1  1]\n",
      " [ 3  3  3]\n",
      " [-1 18 -5]\n",
      " [-2 -2 -1]\n",
      " [ 0  0 -1]\n",
      " [-1 -1 -2]]\n",
      "(6, 3)\n"
     ]
    }
   ],
   "source": [
    "z = numpy.reshape(z,(6,3))\n",
    "print(z)\n",
    "print(z.shape)"
   ]
  },
  {
   "cell_type": "code",
   "execution_count": 25,
   "metadata": {},
   "outputs": [
    {
     "name": "stdout",
     "output_type": "stream",
     "text": [
      "[[ -1  -1  -1]\n",
      " [ -3  -3  -3]\n",
      " [  1 -18   5]\n",
      " [  2   2   1]\n",
      " [  0   0   1]\n",
      " [  1   1   2]\n",
      " [  1   1   1]\n",
      " [  3   3   3]\n",
      " [ -1  18  -5]\n",
      " [ -2  -2  -1]\n",
      " [  0   0  -1]\n",
      " [ -1  -1  -2]]\n"
     ]
    },
    {
     "data": {
      "text/plain": [
       "(12, 3)"
      ]
     },
     "execution_count": 25,
     "metadata": {},
     "output_type": "execute_result"
    }
   ],
   "source": [
    "final = numpy.concatenate((y,z),axis=0)\n",
    "print(final)\n",
    "final.shape"
   ]
  }
 ],
 "metadata": {
  "kernelspec": {
   "display_name": "Python 3",
   "language": "python",
   "name": "python3"
  },
  "language_info": {
   "codemirror_mode": {
    "name": "ipython",
    "version": 3
   },
   "file_extension": ".py",
   "mimetype": "text/x-python",
   "name": "python",
   "nbconvert_exporter": "python",
   "pygments_lexer": "ipython3",
   "version": "3.6.1"
  }
 },
 "nbformat": 4,
 "nbformat_minor": 2
}
